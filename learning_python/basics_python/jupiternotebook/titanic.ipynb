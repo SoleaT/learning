{
  "nbformat": 4,
  "nbformat_minor": 0,
  "metadata": {
    "colab": {
      "provenance": [],
      "authorship_tag": "ABX9TyMrlIdTBJVPZckg6gr9EjaC"
    },
    "kernelspec": {
      "name": "python3",
      "display_name": "Python 3"
    },
    "language_info": {
      "name": "python"
    }
  },
  "cells": [
    {
      "cell_type": "code",
      "execution_count": null,
      "metadata": {
        "id": "lmlJD6Li2dCY"
      },
      "outputs": [],
      "source": [
        "import pandas as pd\n",
        "import matplotlib\n",
        "import seaborn as sns\n",
        "%matplotlib inline\n",
        "df = pd.read_csv('train (2).csv')"
      ]
    },
    {
      "cell_type": "code",
      "source": [
        "df.info()"
      ],
      "metadata": {
        "colab": {
          "base_uri": "https://localhost:8080/"
        },
        "id": "1IhcW89h4DYD",
        "outputId": "d0fd444c-4653-41f4-ec5c-9e0dc613b045"
      },
      "execution_count": null,
      "outputs": [
        {
          "output_type": "stream",
          "name": "stdout",
          "text": [
            "<class 'pandas.core.frame.DataFrame'>\n",
            "RangeIndex: 891 entries, 0 to 890\n",
            "Data columns (total 12 columns):\n",
            " #   Column       Non-Null Count  Dtype  \n",
            "---  ------       --------------  -----  \n",
            " 0   PassengerId  891 non-null    int64  \n",
            " 1   Survived     891 non-null    int64  \n",
            " 2   Pclass       891 non-null    int64  \n",
            " 3   Name         891 non-null    object \n",
            " 4   Sex          891 non-null    object \n",
            " 5   Age          714 non-null    float64\n",
            " 6   SibSp        891 non-null    int64  \n",
            " 7   Parch        891 non-null    int64  \n",
            " 8   Ticket       891 non-null    object \n",
            " 9   Fare         891 non-null    float64\n",
            " 10  Cabin        204 non-null    object \n",
            " 11  Embarked     889 non-null    object \n",
            "dtypes: float64(2), int64(5), object(5)\n",
            "memory usage: 83.7+ KB\n"
          ]
        }
      ]
    },
    {
      "cell_type": "markdown",
      "source": [
        "Всего выживших: "
      ],
      "metadata": {
        "id": "E9asp2du3px_"
      }
    },
    {
      "cell_type": "code",
      "source": [
        "len(df[df['Survived']==1])\n"
      ],
      "metadata": {
        "colab": {
          "base_uri": "https://localhost:8080/"
        },
        "id": "_59JBKr82zth",
        "outputId": "c422677e-93bf-49a2-aba7-382ee4173183"
      },
      "execution_count": null,
      "outputs": [
        {
          "output_type": "execute_result",
          "data": {
            "text/plain": [
              "342"
            ]
          },
          "metadata": {},
          "execution_count": 5
        }
      ]
    },
    {
      "cell_type": "markdown",
      "source": [
        "Статистика выживших:"
      ],
      "metadata": {
        "id": "Jq-uzZ0245uw"
      }
    },
    {
      "cell_type": "code",
      "source": [
        "newdf=df[df.Survived == 1][['Pclass','Name','Sex','Cabin','Fare','Embarked','SibSp']]"
      ],
      "metadata": {
        "id": "nrmVPy1F5DCK"
      },
      "execution_count": null,
      "outputs": []
    },
    {
      "cell_type": "markdown",
      "source": [
        "Одинокие или с родственниками?"
      ],
      "metadata": {
        "id": "njToJa6VyrB5"
      }
    },
    {
      "cell_type": "code",
      "source": [
        "newdf.groupby('SibSp').size()"
      ],
      "metadata": {
        "colab": {
          "base_uri": "https://localhost:8080/"
        },
        "id": "d35MKJ-pyO1z",
        "outputId": "cdd5dc45-61b6-41a1-f19f-506194422bd4"
      },
      "execution_count": null,
      "outputs": [
        {
          "output_type": "execute_result",
          "data": {
            "text/plain": [
              "SibSp\n",
              "0    210\n",
              "1    112\n",
              "2     13\n",
              "3      4\n",
              "4      3\n",
              "dtype: int64"
            ]
          },
          "metadata": {},
          "execution_count": 7
        }
      ]
    },
    {
      "cell_type": "markdown",
      "source": [
        "Сколько мужчин и женщин"
      ],
      "metadata": {
        "id": "MsUddmUay1mP"
      }
    },
    {
      "cell_type": "code",
      "source": [
        "newdf.groupby('Sex').size()"
      ],
      "metadata": {
        "colab": {
          "base_uri": "https://localhost:8080/"
        },
        "id": "zrl4Cd6zsks1",
        "outputId": "85c62306-6d74-4541-c3f5-25e90b93f079"
      },
      "execution_count": null,
      "outputs": [
        {
          "output_type": "execute_result",
          "data": {
            "text/plain": [
              "Sex\n",
              "female    233\n",
              "male      109\n",
              "dtype: int64"
            ]
          },
          "metadata": {},
          "execution_count": 8
        }
      ]
    },
    {
      "cell_type": "markdown",
      "source": [
        "С какого порта посадки:"
      ],
      "metadata": {
        "id": "gUxYKzxCy7wT"
      }
    },
    {
      "cell_type": "code",
      "source": [
        "newdf.groupby('Embarked').size()"
      ],
      "metadata": {
        "colab": {
          "base_uri": "https://localhost:8080/"
        },
        "id": "1PzBbsdktHYH",
        "outputId": "2b713f48-0b3c-4fd9-ea0a-fa4a9daaf27c"
      },
      "execution_count": null,
      "outputs": [
        {
          "output_type": "execute_result",
          "data": {
            "text/plain": [
              "Embarked\n",
              "C     93\n",
              "Q     30\n",
              "S    217\n",
              "dtype: int64"
            ]
          },
          "metadata": {},
          "execution_count": 9
        }
      ]
    },
    {
      "cell_type": "markdown",
      "source": [
        "По цене билета:"
      ],
      "metadata": {
        "id": "QaJZdNCQzEzG"
      }
    },
    {
      "cell_type": "code",
      "source": [
        "newdf['Fare'].describe()"
      ],
      "metadata": {
        "colab": {
          "base_uri": "https://localhost:8080/"
        },
        "id": "W8UEJGypyC7i",
        "outputId": "347c1ad8-d64c-4cae-a16e-7439d8b282ae"
      },
      "execution_count": null,
      "outputs": [
        {
          "output_type": "execute_result",
          "data": {
            "text/plain": [
              "count    342.000000\n",
              "mean      48.395408\n",
              "std       66.596998\n",
              "min        0.000000\n",
              "25%       12.475000\n",
              "50%       26.000000\n",
              "75%       57.000000\n",
              "max      512.329200\n",
              "Name: Fare, dtype: float64"
            ]
          },
          "metadata": {},
          "execution_count": 10
        }
      ]
    },
    {
      "cell_type": "markdown",
      "source": [
        "Выживших в процентах в пределах своего класса:"
      ],
      "metadata": {
        "id": "5VXgViNE0rSI"
      }
    },
    {
      "cell_type": "code",
      "source": [
        "def survival_perc(var1,var2):\n",
        "  return round(var2*100/var1,1)\n",
        "\n",
        "survival_perc(df.groupby('Pclass').size(),newdf.groupby('Pclass').size())"
      ],
      "metadata": {
        "colab": {
          "base_uri": "https://localhost:8080/"
        },
        "id": "U2OxOmPE0AwD",
        "outputId": "eae4ce76-388b-4df6-bb13-a45ac8f63300"
      },
      "execution_count": null,
      "outputs": [
        {
          "output_type": "execute_result",
          "data": {
            "text/plain": [
              "Pclass\n",
              "1    63.0\n",
              "2    47.3\n",
              "3    24.2\n",
              "dtype: float64"
            ]
          },
          "metadata": {},
          "execution_count": 11
        }
      ]
    },
    {
      "cell_type": "markdown",
      "source": [
        "Выживших в процентах по классам:"
      ],
      "metadata": {
        "id": "M3QwSFXa5pGY"
      }
    },
    {
      "cell_type": "code",
      "source": [
        "df[df.Survived==1].Pclass.value_counts(normalize = True).mul(100).round(1).sort_index().sort_index().plot.bar()"
      ],
      "metadata": {
        "colab": {
          "base_uri": "https://localhost:8080/",
          "height": 279
        },
        "id": "GJWwGQ_b4FnL",
        "outputId": "ab72e1da-199a-4a44-d85c-3c6e62f2efa0"
      },
      "execution_count": null,
      "outputs": [
        {
          "output_type": "execute_result",
          "data": {
            "text/plain": [
              "<matplotlib.axes._subplots.AxesSubplot at 0x7feef43ad070>"
            ]
          },
          "metadata": {},
          "execution_count": 20
        },
        {
          "output_type": "display_data",
          "data": {
            "text/plain": [
              "<Figure size 432x288 with 1 Axes>"
            ],
            "image/png": "[encoded data removed]"
          },
          "metadata": {
            "needs_background": "light"
          }
        }
      ]
    },
    {
      "cell_type": "markdown",
      "source": [
        "Изначальное распределение по классам в процентах:"
      ],
      "metadata": {
        "id": "rL6VUJVY6Z5N"
      }
    },
    {
      "cell_type": "code",
      "source": [
        "df.Pclass.value_counts(normalize = True).mul(100).round(1).sort_index().plot.bar()"
      ],
      "metadata": {
        "colab": {
          "base_uri": "https://localhost:8080/",
          "height": 279
        },
        "id": "pfmip5wg47vh",
        "outputId": "f670138d-ccae-43ef-889b-2cb30b415f41"
      },
      "execution_count": null,
      "outputs": [
        {
          "output_type": "execute_result",
          "data": {
            "text/plain": [
              "<matplotlib.axes._subplots.AxesSubplot at 0x7feee9e4c160>"
            ]
          },
          "metadata": {},
          "execution_count": 30
        },
        {
          "output_type": "display_data",
          "data": {
            "text/plain": [
              "<Figure size 432x288 with 1 Axes>"
            ],
            "image/png": "[encoded data removed]"
          },
          "metadata": {
            "needs_background": "light"
          }
        }
      ]
    },
    {
      "cell_type": "markdown",
      "source": [
        "Количество выживших мужчин и женщин из разных портов отправления:"
      ],
      "metadata": {
        "id": "HPG8E-9DBAwc"
      }
    },
    {
      "cell_type": "code",
      "source": [
        "sns.countplot(data=df[df.Survived==1], hue='Sex',x='Embarked')"
      ],
      "metadata": {
        "colab": {
          "base_uri": "https://localhost:8080/",
          "height": 296
        },
        "id": "V_MmCRWb72E0",
        "outputId": "2939faf9-9ee6-428c-e633-1f736cbd1344"
      },
      "execution_count": null,
      "outputs": [
        {
          "output_type": "execute_result",
          "data": {
            "text/plain": [
              "<matplotlib.axes._subplots.AxesSubplot at 0x7feee9894d90>"
            ]
          },
          "metadata": {},
          "execution_count": 61
        },
        {
          "output_type": "display_data",
          "data": {
            "text/plain": [
              "<Figure size 432x288 with 1 Axes>"
            ],
            "image/png": "[encoded data removed]"
          },
          "metadata": {
            "needs_background": "light"
          }
        }
      ]
    },
    {
      "cell_type": "markdown",
      "source": [
        "Сколько денег на билет могли позволить себе выжившие:"
      ],
      "metadata": {
        "id": "2QM2OkimDTyz"
      }
    },
    {
      "cell_type": "code",
      "source": [
        "sns.scatterplot(data=df[df.Survived==1], y='Age',x='Fare',hue='Sex', size='Fare', sizes=(20,400),legend=\"auto\")"
      ],
      "metadata": {
        "colab": {
          "base_uri": "https://localhost:8080/",
          "height": 296
        },
        "id": "7-srVfKr6TI7",
        "outputId": "68ca7240-d079-4888-9cce-19bab2f13fcd"
      },
      "execution_count": null,
      "outputs": [
        {
          "output_type": "execute_result",
          "data": {
            "text/plain": [
              "<matplotlib.axes._subplots.AxesSubplot at 0x7feee85ceb20>"
            ]
          },
          "metadata": {},
          "execution_count": 103
        },
        {
          "output_type": "display_data",
          "data": {
            "text/plain": [
              "<Figure size 432x288 with 1 Axes>"
            ],
            "image/png": "[encoded data removed]"
          },
          "metadata": {
            "needs_background": "light"
          }
        }
      ]
    },
    {
      "cell_type": "markdown",
      "source": [
        "Сколько родственников у спасшихся мужчин и женщин:"
      ],
      "metadata": {
        "id": "ReZF7U6rHSXv"
      }
    },
    {
      "cell_type": "code",
      "source": [
        "sns.countplot(data=newdf, x = 'SibSp', hue='Sex')"
      ],
      "metadata": {
        "colab": {
          "base_uri": "https://localhost:8080/",
          "height": 296
        },
        "id": "Q_3qaChoG0oX",
        "outputId": "de0302a2-667a-452a-8cc5-f4e618caec91"
      },
      "execution_count": null,
      "outputs": [
        {
          "output_type": "execute_result",
          "data": {
            "text/plain": [
              "<matplotlib.axes._subplots.AxesSubplot at 0x7feee86b8b20>"
            ]
          },
          "metadata": {},
          "execution_count": 101
        },
        {
          "output_type": "display_data",
          "data": {
            "text/plain": [
              "<Figure size 432x288 with 1 Axes>"
            ],
            "image/png": "[encoded data removed]"
          },
          "metadata": {
            "needs_background": "light"
          }
        }
      ]
    }
  ]
}